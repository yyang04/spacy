{
 "cells": [
  {
   "cell_type": "code",
   "execution_count": 37,
   "id": "initial_id",
   "metadata": {
    "collapsed": true,
    "ExecuteTime": {
     "end_time": "2023-08-30T12:17:16.882560Z",
     "start_time": "2023-08-30T12:17:16.679536Z"
    }
   },
   "outputs": [],
   "source": [
    "import spacy\n",
    "from pypdf import PdfReader\n",
    "from collections import Counter\n",
    "import pandas as pd\n",
    "from googletranslatepy import Translator\n",
    "from tqdm.notebook import tqdm\n",
    "import time"
   ]
  },
  {
   "cell_type": "code",
   "execution_count": 2,
   "outputs": [],
   "source": [
    "reader = PdfReader(\"data/Les assassins de la 5e-B.pdf\")\n",
    "content = []\n",
    "for i in range(14, len(reader.pages)):\n",
    "    content.append(reader.pages[i].extract_text())"
   ],
   "metadata": {
    "collapsed": false,
    "ExecuteTime": {
     "end_time": "2023-08-30T11:42:18.099697Z",
     "start_time": "2023-08-30T11:42:03.483256Z"
    }
   },
   "id": "1830ef3ed84cd960"
  },
  {
   "cell_type": "code",
   "execution_count": 3,
   "outputs": [],
   "source": [
    "book = \"\\t\".join(content)"
   ],
   "metadata": {
    "collapsed": false,
    "ExecuteTime": {
     "end_time": "2023-08-30T11:42:21.045559Z",
     "start_time": "2023-08-30T11:42:21.041343Z"
    }
   },
   "id": "586aa3b4255f54bb"
  },
  {
   "cell_type": "code",
   "execution_count": 4,
   "outputs": [],
   "source": [
    "nlp = spacy.load(\"fr_dep_news_trf\", disable=[\"ner\", \"parser\", \"textcat\"])"
   ],
   "metadata": {
    "collapsed": false,
    "ExecuteTime": {
     "end_time": "2023-08-30T11:42:33.435210Z",
     "start_time": "2023-08-30T11:42:23.162330Z"
    }
   },
   "id": "a3f4eff74d18ba0"
  },
  {
   "cell_type": "code",
   "execution_count": 5,
   "outputs": [],
   "source": [
    "doc = nlp(book)"
   ],
   "metadata": {
    "collapsed": false,
    "ExecuteTime": {
     "end_time": "2023-08-30T11:51:24.792554Z",
     "start_time": "2023-08-30T11:42:44.001231Z"
    }
   },
   "id": "ff0372c093aea20"
  },
  {
   "cell_type": "code",
   "execution_count": 6,
   "outputs": [
    {
     "data": {
      "text/plain": "4377"
     },
     "execution_count": 6,
     "metadata": {},
     "output_type": "execute_result"
    }
   ],
   "source": [
    "words = Counter(token.lemma_ for token in doc)\n",
    "len(words)"
   ],
   "metadata": {
    "collapsed": false,
    "ExecuteTime": {
     "end_time": "2023-08-30T11:55:14.675786Z",
     "start_time": "2023-08-30T11:55:14.599879Z"
    }
   },
   "id": "d171185595c09cb3"
  },
  {
   "cell_type": "code",
   "execution_count": 7,
   "outputs": [],
   "source": [
    "sorted_dict = dict(sorted(words.items(), key=lambda item: -item[1]))\n",
    "df = pd.DataFrame.from_dict(sorted_dict, orient='index', columns=['count'])\n",
    "search = df[37:]['count'].to_dict()"
   ],
   "metadata": {
    "collapsed": false,
    "ExecuteTime": {
     "end_time": "2023-08-30T11:55:17.071417Z",
     "start_time": "2023-08-30T11:55:17.056945Z"
    }
   },
   "id": "54d8f6b10600d2a7"
  },
  {
   "cell_type": "code",
   "execution_count": 38,
   "outputs": [],
   "source": [
    "translator = Translator()"
   ],
   "metadata": {
    "collapsed": false,
    "ExecuteTime": {
     "end_time": "2023-08-30T12:17:21.124747Z",
     "start_time": "2023-08-30T12:17:21.119997Z"
    }
   },
   "id": "79b11b87e971de9d"
  },
  {
   "cell_type": "code",
   "execution_count": 39,
   "outputs": [],
   "source": [
    "result = []"
   ],
   "metadata": {
    "collapsed": false,
    "ExecuteTime": {
     "end_time": "2023-08-30T12:17:21.708478Z",
     "start_time": "2023-08-30T12:17:21.697098Z"
    }
   },
   "id": "4690b5f427909620"
  },
  {
   "cell_type": "code",
   "execution_count": 40,
   "outputs": [],
   "source": [
    "translations = translator.translate('plusieurs', dest='zh-cn')"
   ],
   "metadata": {
    "collapsed": false,
    "ExecuteTime": {
     "end_time": "2023-08-30T12:17:23.670988Z",
     "start_time": "2023-08-30T12:17:23.237779Z"
    }
   },
   "id": "56140c6b1053c137"
  },
  {
   "cell_type": "code",
   "execution_count": null,
   "outputs": [
    {
     "data": {
      "text/plain": "  0%|          | 0/4340 [00:00<?, ?it/s]",
      "application/vnd.jupyter.widget-view+json": {
       "version_major": 2,
       "version_minor": 0,
       "model_id": "7163626d98fe4365b63b1a8fcb8847cc"
      }
     },
     "metadata": {},
     "output_type": "display_data"
    },
    {
     "name": "stdout",
     "output_type": "stream",
     "text": [
      "sequence item 0: expected str instance, NoneType found\n",
      "sequence item 0: expected str instance, NoneType found\n",
      "sequence item 0: expected str instance, NoneType found\n",
      "sequence item 0: expected str instance, NoneType found\n",
      "sequence item 0: expected str instance, NoneType found\n",
      "sequence item 0: expected str instance, NoneType found\n",
      "sequence item 0: expected str instance, NoneType found\n",
      "sequence item 0: expected str instance, NoneType found\n",
      "sequence item 0: expected str instance, NoneType found\n",
      "sequence item 0: expected str instance, NoneType found\n"
     ]
    }
   ],
   "source": [
    "for key in tqdm(list(search.keys())):\n",
    "    try:\n",
    "        translations = translator.translate(key, dest='zh-cn')\n",
    "        result.append({\"key\": key, \"translations\": translations, \"count\": search[key]})\n",
    "    except Exception as e:\n",
    "        print(f\"{key} error {e}\")\n",
    "\n"
   ],
   "metadata": {
    "collapsed": false,
    "is_executing": true,
    "ExecuteTime": {
     "start_time": "2023-08-30T12:17:55.508449Z"
    }
   },
   "id": "7f364ffb77610688"
  },
  {
   "cell_type": "code",
   "execution_count": null,
   "outputs": [],
   "source": [],
   "metadata": {
    "collapsed": false
   },
   "id": "f2219676978bafa9"
  },
  {
   "cell_type": "code",
   "execution_count": 25,
   "outputs": [
    {
     "data": {
      "text/plain": "[{'key': 'luire', 'translations': '辉光', 'count': 402},\n {'key': 'vous', 'translations': '你', 'count': 396},\n {'key': 'm’', 'translations': '米’', 'count': 383},\n {'key': 'pouvoir', 'translations': '力量', 'count': 379},\n {'key': 'au', 'translations': '非盟', 'count': 365},\n {'key': '!', 'translations': '！', 'count': 360},\n {'key': 'cela', 'translations': '那', 'count': 355},\n {'key': '–', 'translations': '–', 'count': 345},\n {'key': 'plus', 'translations': '加', 'count': 332},\n {'key': 'même', 'translations': '甚至', 'count': 330},\n {'key': 's’', 'translations': 's’', 'count': 330},\n {'key': 'aller', 'translations': '去', 'count': 323},\n {'key': 'si', 'translations': '和', 'count': 318},\n {'key': 'se', 'translations': '和', 'count': 307},\n {'key': '«', 'translations': '«', 'count': 292},\n {'key': '»', 'translations': '»', 'count': 292},\n {'key': 'luire', 'translations': '辉光', 'count': 402},\n {'key': 'vous', 'translations': '你', 'count': 396},\n {'key': 'm’', 'translations': '米’', 'count': 383},\n {'key': 'pouvoir', 'translations': '力量', 'count': 379},\n {'key': 'au', 'translations': '非盟', 'count': 365},\n {'key': '!', 'translations': '！', 'count': 360},\n {'key': 'cela', 'translations': '那', 'count': 355},\n {'key': '–', 'translations': '–', 'count': 345},\n {'key': 'plus', 'translations': '加', 'count': 332},\n {'key': 'même', 'translations': '甚至', 'count': 330},\n {'key': 's’', 'translations': 's’', 'count': 330},\n {'key': 'aller', 'translations': '去', 'count': 323},\n {'key': 'si', 'translations': '和', 'count': 318},\n {'key': 'se', 'translations': '和', 'count': 307},\n {'key': '«', 'translations': '«', 'count': 292},\n {'key': '»', 'translations': '»', 'count': 292},\n {'key': 'sur', 'translations': '在', 'count': 292},\n {'key': 'moi', 'translations': '我', 'count': 288},\n {'key': 'comme', 'translations': '作为', 'count': 269},\n {'key': ':', 'translations': ':', 'count': 262},\n {'key': 'par', 'translations': '标杆', 'count': 261},\n {'key': 'avec', 'translations': '和', 'count': 260},\n {'key': 'bien', 'translations': '好的', 'count': 247},\n {'key': 'on', 'translations': '在', 'count': 244},\n {'key': 'quand', 'translations': '什么时候', 'count': 229}]"
     },
     "execution_count": 25,
     "metadata": {},
     "output_type": "execute_result"
    }
   ],
   "source": [
    "result"
   ],
   "metadata": {
    "collapsed": false,
    "ExecuteTime": {
     "end_time": "2023-08-30T12:02:02.313626Z",
     "start_time": "2023-08-30T12:02:02.308847Z"
    }
   },
   "id": "69f7f6ec3ec6b26a"
  },
  {
   "cell_type": "code",
   "execution_count": 20,
   "outputs": [
    {
     "data": {
      "text/plain": "'辉光'"
     },
     "execution_count": 20,
     "metadata": {},
     "output_type": "execute_result"
    }
   ],
   "source": [
    "translations.text"
   ],
   "metadata": {
    "collapsed": false,
    "ExecuteTime": {
     "end_time": "2023-08-30T11:58:32.692130Z",
     "start_time": "2023-08-30T11:58:32.685506Z"
    }
   },
   "id": "2a7024fb75f70ef1"
  },
  {
   "cell_type": "code",
   "execution_count": 14,
   "outputs": [
    {
     "data": {
      "text/plain": "['luire', 'vous']"
     },
     "execution_count": 14,
     "metadata": {},
     "output_type": "execute_result"
    }
   ],
   "source": [],
   "metadata": {
    "collapsed": false,
    "ExecuteTime": {
     "end_time": "2023-08-30T11:57:21.184667Z",
     "start_time": "2023-08-30T11:57:21.176556Z"
    }
   },
   "id": "6e896b606eda6374"
  },
  {
   "cell_type": "code",
   "execution_count": null,
   "outputs": [],
   "source": [],
   "metadata": {
    "collapsed": false
   },
   "id": "6f559c31dc38e95d"
  }
 ],
 "metadata": {
  "kernelspec": {
   "display_name": "Python 3",
   "language": "python",
   "name": "python3"
  },
  "language_info": {
   "codemirror_mode": {
    "name": "ipython",
    "version": 2
   },
   "file_extension": ".py",
   "mimetype": "text/x-python",
   "name": "python",
   "nbconvert_exporter": "python",
   "pygments_lexer": "ipython2",
   "version": "2.7.6"
  }
 },
 "nbformat": 4,
 "nbformat_minor": 5
}
