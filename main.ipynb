{
 "cells": [
  {
   "cell_type": "code",
   "execution_count": 41,
   "id": "initial_id",
   "metadata": {
    "collapsed": true,
    "ExecuteTime": {
     "end_time": "2023-08-30T09:08:04.421611Z",
     "start_time": "2023-08-30T09:07:59.280601Z"
    }
   },
   "outputs": [],
   "source": [
    "import spacy\n",
    "from pypdf import PdfReader\n",
    "from tqdm import tqdm_notebook\n",
    "from collections import Counter\n",
    "import pandas as pd"
   ]
  },
  {
   "cell_type": "code",
   "execution_count": 12,
   "outputs": [],
   "source": [
    "reader = PdfReader(\"data/Les assassins de la 5e-B.pdf\")\n",
    "content = []\n",
    "for i in range(14, len(reader.pages)):\n",
    "    content.append(reader.pages[i].extract_text())"
   ],
   "metadata": {
    "collapsed": false,
    "ExecuteTime": {
     "end_time": "2023-08-30T08:21:50.804279Z",
     "start_time": "2023-08-30T08:21:35.040985Z"
    }
   },
   "id": "1830ef3ed84cd960"
  },
  {
   "cell_type": "code",
   "execution_count": 15,
   "outputs": [],
   "source": [
    "book = \"\\t\".join(content)"
   ],
   "metadata": {
    "collapsed": false,
    "ExecuteTime": {
     "end_time": "2023-08-30T08:22:45.779097Z",
     "start_time": "2023-08-30T08:22:45.758481Z"
    }
   },
   "id": "586aa3b4255f54bb"
  },
  {
   "cell_type": "code",
   "execution_count": 36,
   "outputs": [],
   "source": [
    "nlp = spacy.load(\"fr_dep_news_trf\", disable=[\"ner\", \"parser\", \"textcat\"])"
   ],
   "metadata": {
    "collapsed": false,
    "ExecuteTime": {
     "end_time": "2023-08-30T08:49:19.970086Z",
     "start_time": "2023-08-30T08:49:09.989039Z"
    }
   },
   "id": "a3f4eff74d18ba0"
  },
  {
   "cell_type": "code",
   "execution_count": 37,
   "outputs": [],
   "source": [
    "doc = nlp(book)"
   ],
   "metadata": {
    "collapsed": false,
    "ExecuteTime": {
     "end_time": "2023-08-30T08:56:47.262652Z",
     "start_time": "2023-08-30T08:49:28.484895Z"
    }
   },
   "id": "ff0372c093aea20"
  },
  {
   "cell_type": "code",
   "execution_count": 38,
   "outputs": [],
   "source": [
    "words = Counter(token.lemma_ for token in doc)"
   ],
   "metadata": {
    "collapsed": false,
    "ExecuteTime": {
     "end_time": "2023-08-30T08:56:56.552129Z",
     "start_time": "2023-08-30T08:56:56.538281Z"
    }
   },
   "id": "d171185595c09cb3"
  },
  {
   "cell_type": "code",
   "execution_count": 47,
   "outputs": [
    {
     "ename": "ValueError",
     "evalue": "[E029] `noun_chunks` requires the dependency parse, which requires a statistical model to be installed and loaded. For more info, see the documentation:\nhttps://spacy.io/usage/models",
     "output_type": "error",
     "traceback": [
      "\u001B[0;31m---------------------------------------------------------------------------\u001B[0m",
      "\u001B[0;31mValueError\u001B[0m                                Traceback (most recent call last)",
      "Cell \u001B[0;32mIn[47], line 1\u001B[0m\n\u001B[0;32m----> 1\u001B[0m \u001B[38;5;28;01mfor\u001B[39;00m i \u001B[38;5;129;01min\u001B[39;00m doc\u001B[38;5;241m.\u001B[39mnoun_chunks:\n\u001B[1;32m      2\u001B[0m     \u001B[38;5;28mprint\u001B[39m(i)\n",
      "File \u001B[0;32m~/opt/anaconda3/envs/spacy38/lib/python3.8/site-packages/spacy/tokens/doc.pyx:908\u001B[0m, in \u001B[0;36mnoun_chunks\u001B[0;34m()\u001B[0m\n",
      "File \u001B[0;32m~/opt/anaconda3/envs/spacy38/lib/python3.8/site-packages/spacy/lang/fr/syntax_iterators.py:28\u001B[0m, in \u001B[0;36mnoun_chunks\u001B[0;34m(doclike)\u001B[0m\n\u001B[1;32m     26\u001B[0m doc \u001B[38;5;241m=\u001B[39m doclike\u001B[38;5;241m.\u001B[39mdoc  \u001B[38;5;66;03m# Ensure works on both Doc and Span.\u001B[39;00m\n\u001B[1;32m     27\u001B[0m \u001B[38;5;28;01mif\u001B[39;00m \u001B[38;5;129;01mnot\u001B[39;00m doc\u001B[38;5;241m.\u001B[39mhas_annotation(\u001B[38;5;124m\"\u001B[39m\u001B[38;5;124mDEP\u001B[39m\u001B[38;5;124m\"\u001B[39m):\n\u001B[0;32m---> 28\u001B[0m     \u001B[38;5;28;01mraise\u001B[39;00m \u001B[38;5;167;01mValueError\u001B[39;00m(Errors\u001B[38;5;241m.\u001B[39mE029)\n\u001B[1;32m     29\u001B[0m np_deps \u001B[38;5;241m=\u001B[39m {doc\u001B[38;5;241m.\u001B[39mvocab\u001B[38;5;241m.\u001B[39mstrings\u001B[38;5;241m.\u001B[39madd(label) \u001B[38;5;28;01mfor\u001B[39;00m label \u001B[38;5;129;01min\u001B[39;00m labels}\n\u001B[1;32m     30\u001B[0m np_modifs \u001B[38;5;241m=\u001B[39m {doc\u001B[38;5;241m.\u001B[39mvocab\u001B[38;5;241m.\u001B[39mstrings\u001B[38;5;241m.\u001B[39madd(modifier) \u001B[38;5;28;01mfor\u001B[39;00m modifier \u001B[38;5;129;01min\u001B[39;00m post_modifiers}\n",
      "\u001B[0;31mValueError\u001B[0m: [E029] `noun_chunks` requires the dependency parse, which requires a statistical model to be installed and loaded. For more info, see the documentation:\nhttps://spacy.io/usage/models"
     ]
    }
   ],
   "source": [
    "for i in doc.noun_chunks:\n",
    "    print(i)"
   ],
   "metadata": {
    "collapsed": false,
    "ExecuteTime": {
     "end_time": "2023-08-30T11:08:29.439157Z",
     "start_time": "2023-08-30T11:08:29.364833Z"
    }
   },
   "id": "1414df0e103f2a23"
  },
  {
   "cell_type": "code",
   "execution_count": 39,
   "outputs": [
    {
     "data": {
      "text/plain": "4377"
     },
     "execution_count": 39,
     "metadata": {},
     "output_type": "execute_result"
    }
   ],
   "source": [
    "len(words)"
   ],
   "metadata": {
    "collapsed": false,
    "ExecuteTime": {
     "end_time": "2023-08-30T08:57:05.842986Z",
     "start_time": "2023-08-30T08:57:05.792801Z"
    }
   },
   "id": "3f2f2f9279b4b726"
  },
  {
   "cell_type": "code",
   "execution_count": 44,
   "outputs": [
    {
     "data": {
      "text/plain": "             count\n\\t           65262\n\\n            5842\n,             4749\nle            3919\n.             3639\n...            ...\nfabrication      1\nréamorcer        1\nbéton            1\narmer            1\nconstruire       1\n\n[4377 rows x 1 columns]",
      "text/html": "<div>\n<style scoped>\n    .dataframe tbody tr th:only-of-type {\n        vertical-align: middle;\n    }\n\n    .dataframe tbody tr th {\n        vertical-align: top;\n    }\n\n    .dataframe thead th {\n        text-align: right;\n    }\n</style>\n<table border=\"1\" class=\"dataframe\">\n  <thead>\n    <tr style=\"text-align: right;\">\n      <th></th>\n      <th>count</th>\n    </tr>\n  </thead>\n  <tbody>\n    <tr>\n      <th>\\t</th>\n      <td>65262</td>\n    </tr>\n    <tr>\n      <th>\\n</th>\n      <td>5842</td>\n    </tr>\n    <tr>\n      <th>,</th>\n      <td>4749</td>\n    </tr>\n    <tr>\n      <th>le</th>\n      <td>3919</td>\n    </tr>\n    <tr>\n      <th>.</th>\n      <td>3639</td>\n    </tr>\n    <tr>\n      <th>...</th>\n      <td>...</td>\n    </tr>\n    <tr>\n      <th>fabrication</th>\n      <td>1</td>\n    </tr>\n    <tr>\n      <th>réamorcer</th>\n      <td>1</td>\n    </tr>\n    <tr>\n      <th>béton</th>\n      <td>1</td>\n    </tr>\n    <tr>\n      <th>armer</th>\n      <td>1</td>\n    </tr>\n    <tr>\n      <th>construire</th>\n      <td>1</td>\n    </tr>\n  </tbody>\n</table>\n<p>4377 rows × 1 columns</p>\n</div>"
     },
     "execution_count": 44,
     "metadata": {},
     "output_type": "execute_result"
    }
   ],
   "source": [
    "sorted_dict = dict(sorted(words.items(), key=lambda item: -item[1]))\n",
    "pd.DataFrame.from_dict(sorted_dict, orient='index', columns=['count'])"
   ],
   "metadata": {
    "collapsed": false,
    "ExecuteTime": {
     "end_time": "2023-08-30T09:11:27.192836Z",
     "start_time": "2023-08-30T09:11:27.113003Z"
    }
   },
   "id": "54d8f6b10600d2a7"
  },
  {
   "cell_type": "code",
   "execution_count": 24,
   "outputs": [
    {
     "data": {
      "text/plain": "5347"
     },
     "execution_count": 24,
     "metadata": {},
     "output_type": "execute_result"
    }
   ],
   "source": [
    "len(words)"
   ],
   "metadata": {
    "collapsed": false,
    "ExecuteTime": {
     "end_time": "2023-08-30T08:39:52.807805Z",
     "start_time": "2023-08-30T08:39:52.795484Z"
    }
   },
   "id": "5bc3fb3c527153c4"
  },
  {
   "cell_type": "code",
   "execution_count": null,
   "outputs": [],
   "source": [],
   "metadata": {
    "collapsed": false
   },
   "id": "24458cd39ed53817"
  }
 ],
 "metadata": {
  "kernelspec": {
   "display_name": "Python 3",
   "language": "python",
   "name": "python3"
  },
  "language_info": {
   "codemirror_mode": {
    "name": "ipython",
    "version": 2
   },
   "file_extension": ".py",
   "mimetype": "text/x-python",
   "name": "python",
   "nbconvert_exporter": "python",
   "pygments_lexer": "ipython2",
   "version": "2.7.6"
  }
 },
 "nbformat": 4,
 "nbformat_minor": 5
}
