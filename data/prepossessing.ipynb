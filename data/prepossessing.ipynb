{
 "cells": [
  {
   "cell_type": "code",
   "execution_count": 33,
   "id": "initial_id",
   "metadata": {
    "collapsed": true,
    "ExecuteTime": {
     "end_time": "2023-09-26T14:55:44.137352Z",
     "start_time": "2023-09-26T14:55:44.121799Z"
    }
   },
   "outputs": [],
   "source": [
    "import string\n",
    "with open(\"Les assassins de la 5e-B\") as f:\n",
    "    result = []\n",
    "    rows = f.readlines()\n",
    "    for row in rows:\n",
    "        if len(row.split(\",\")) == 2:\n",
    "            result.append((row.split(\",\")[0], int(row.split(\",\")[1].strip())))"
   ]
  },
  {
   "cell_type": "code",
   "execution_count": 24,
   "outputs": [],
   "source": [
    "result = sorted(result, key=lambda x: -x[1])\n",
    "data = [r for r in result if r[1] <= 402]\n"
   ],
   "metadata": {
    "collapsed": false,
    "ExecuteTime": {
     "end_time": "2023-09-26T14:49:23.918973Z",
     "start_time": "2023-09-26T14:49:23.907141Z"
    }
   },
   "id": "f134856c3950a098"
  },
  {
   "cell_type": "code",
   "execution_count": 29,
   "outputs": [
    {
     "data": {
      "text/plain": "[('luire', 402),\n ('vous', 396),\n ('m’', 383),\n ('pouvoir', 379),\n ('au', 365),\n ('!', 360),\n ('cela', 355),\n ('–', 345),\n ('plus', 332),\n ('même', 330),\n ('s’', 330),\n ('aller', 323),\n ('si', 318),\n ('se', 307),\n ('«', 292),\n ('»', 292),\n ('sur', 292),\n ('moi', 288),\n ('comme', 269),\n (':', 262),\n ('par', 261),\n ('avec', 260),\n ('bien', 247),\n ('on', 244),\n ('quand', 229),\n ('', 221),\n ('tu', 219),\n ('nous', 209),\n ('voir', 195),\n ('alors', 195),\n ('vouloir', 188),\n ('autre', 177),\n ('y', 170),\n ('classe', 162),\n ('celer', 160),\n ('savoir', 160),\n ('mère', 154),\n ('prendre', 151),\n ('fois', 146),\n ('ou', 145),\n ('maman', 144),\n ('trouver', 142),\n ('venir', 142),\n ('sans', 141),\n ('-', 140),\n ('rien', 138),\n ('jour', 135),\n ('chose', 134),\n ('parler', 133),\n ('Naoki', 132),\n ('élève', 124),\n ('passer', 123),\n ('seul', 122),\n ('encore', 119),\n ('devoir', 118),\n ('aussi', 117),\n ('premier', 116),\n ('quelque', 115),\n ('fait', 111),\n ('penser', 111),\n ('croire', 107),\n ('votre', 106),\n ('parce', 106),\n ('peu', 104),\n ('petit', 104),\n ('où', 102),\n ('demander', 102),\n ('mettre', 102),\n ('non', 101),\n ('bon', 101),\n ('collège', 99),\n ('celui', 97),\n ('Watanabe', 96),\n ('Nao', 96),\n ('', 96),\n ('Shūya', 95),\n ('-ce', 94),\n ('très', 91),\n ('fille', 91),\n ('professeur', 88),\n ('regarder', 85),\n ('toujours', 84),\n ('là', 83),\n ('depuis', 83),\n ('main', 83),\n ('Manami', 81),\n ('falloir', 80),\n ('vie', 80),\n ('comprendre', 80),\n ('vrai', 79),\n ('école', 79),\n ('après', 79),\n ('prof', 78),\n ('arriver', 77),\n ('moment', 77),\n ('monde', 76),\n ('Moriguchi', 76),\n ('tuer', 75),\n ('quoi', 74),\n ('donner', 74),\n ('enfant', 74),\n ('devant', 74),\n ('dernier', 73),\n ('maintenant', 73),\n ('piscine', 73),\n ('tête', 73),\n ('jamais', 72),\n ('sûr', 71),\n ('temps', 71),\n ('commencer', 71),\n ('notre', 70),\n ('deux', 69),\n ('mort', 69),\n ('quelqu’', 68),\n ('ton', 68),\n ('personne', 67),\n ('sortir', 66),\n ('avant', 65),\n ('te', 65),\n ('mourir', 64),\n ('entendre', 61),\n ('rester', 61),\n ('raconter', 61),\n ('-là', 61),\n ('maison', 60),\n ('cours', 59),\n ('pourquoi', 59),\n ('oeil', 59),\n ('affaire', 59),\n ('Werther', 59),\n ('année', 58),\n ('entrer', 58),\n ('peut-être', 58),\n ('coup', 58),\n ('lait', 57),\n ('aimer', 57),\n ('a', 56),\n ('garçon', 55),\n ('devenir', 55),\n ('façon', 55),\n ('appeler', 55),\n ('oui', 54),\n ('grand', 54),\n ('père', 54),\n ('écrire', 54),\n ('crime', 54),\n ('mot', 53),\n ('juste', 53),\n ('ni', 53),\n ('jusqu’', 53),\n ('Shimomura', 53),\n ('sentir', 52),\n ('déjà', 51),\n ('Ah', 50),\n ('an', 50),\n ('nouveau', 50),\n ('moins', 50),\n ('mme', 50),\n ('m.', 49),\n ('laisser', 49),\n ('question', 49),\n ('arrêter', 49),\n ('police', 49),\n ('chez', 48),\n ('aucun', 48),\n ('pendant', 48),\n ('heure', 47),\n ('enfin', 46),\n ('cas', 46),\n ('envie', 46),\n ('chambre', 46),\n ('air', 45),\n ('trop', 45),\n ('comment', 45),\n ('quel', 45),\n ('toi', 45),\n ('point', 44),\n ('famille', 43),\n ('jeune', 43),\n ('vraiment', 43),\n ('nom', 43),\n ('attendre', 43),\n ('répondre', 43),\n ('poser', 42),\n ('ouvrir', 42),\n ('principal', 42),\n ('histoire', 42),\n ('tellement', 42),\n ('connaître', 41),\n ('idée', 41),\n ('t’', 41),\n ('côté', 41),\n ('sang', 41),\n ('donc', 40),\n ('soir', 40),\n ('mieux', 40),\n ('semaine', 40),\n ('tomber', 40),\n ('peur', 40),\n ('imaginer', 39),\n ('ailleurs', 39),\n ('b', 39),\n ('mal', 39),\n ('recevoir', 39),\n ('lire', 39),\n ('abord', 39),\n ('carton', 38),\n ('voilà', 38),\n ('fin', 38),\n ('*', 38),\n ('tenir', 38),\n ('manger', 38),\n ('-t', 37),\n ('partir', 37),\n ('pochette', 37),\n ('surtout', 37),\n ('journal', 37),\n ('Terada', 37),\n ('pourtant', 36),\n ('apprendre', 36),\n ('seulement', 35),\n ('lequel', 35),\n ('mauvais', 35),\n ('rendre', 35),\n ('problème', 34),\n ('suffire', 34),\n ('chercher', 34),\n ('mois', 34),\n ('plutôt', 34),\n ('fort', 34),\n ('chaque', 34),\n ('doute', 34),\n ('fils', 34),\n ('porte-monnaie', 34),\n ('sembler', 33),\n ('cœur', 33),\n ('tant', 33),\n ('vivre', 33),\n ('contre', 33),\n ('finalement', 33),\n ('sourire', 33),\n ('accident', 33),\n ('frère', 33),\n ('porte', 32),\n ('rentrer', 32),\n ('salle', 32),\n ('travail', 32),\n ('portable', 32),\n ('jeter', 32),\n ('assez', 31),\n ('gens', 31),\n ('\\t', 31),\n ('vers', 31),\n ('regard', 31),\n ('lapin', 31),\n ('essayer', 31),\n ('bruit', 31),\n ('revenir', 30),\n ('Eh', 30),\n ('sou', 30),\n ('lieu', 30),\n ('jouer', 30),\n ('note', 30),\n ('certain', 30),\n ('place', 30),\n ('évidemment', 30),\n ('plusieurs', 30),\n ('invention', 30),\n ('âge', 29),\n ('dont', 29),\n ('part', 29),\n ('aujourd’hui', 29),\n ('droit', 29),\n ('trimestre', 29),\n ('dès', 28),\n ('boire', 28),\n ('montrer', 28),\n ('empêcher', 28),\n ('voix', 28),\n ('souvenir', 28),\n ('exactement', 28),\n ('début', 28),\n ('corps', 28),\n ('cause', 27),\n ('télé', 27),\n ('toucher', 27),\n ('normal', 27),\n ('acheter', 27),\n ('fond', 27),\n ('produit', 26),\n ('genre', 26),\n ('trois', 26),\n ('Sakuranomiya', 26),\n ('meilleur', 26),\n ('lui-même', 26),\n ('impression', 26),\n ('pleurer', 26),\n ('bras', 26),\n ('Mizuki', 26),\n ('enseignant', 25),\n ('beaucoup', 25),\n ('porter', 25),\n ('moindre', 25),\n ('apparaître', 25),\n ('lettre', 25),\n ('apporter', 25),\n ('changer', 24),\n ('oublier', 24),\n ('pousser', 24),\n ('matin', 24),\n ('rire', 24),\n ('puisque', 24),\n ('club', 24),\n ('retourner', 24),\n ('tel', 24),\n ('utiliser', 24),\n ('site', 24),\n ('débile', 24),\n ('situation', 23),\n ('parent', 23),\n ('besoin', 23),\n ('chance', 23),\n ('chien', 23),\n ('car', 23),\n ('instant', 23),\n ('garder', 23),\n ('supposer', 23),\n ('femme', 23),\n ('prix', 23),\n ('concerner', 23),\n ('truc', 22),\n ('raison', 22),\n ('présenter', 22),\n ('compte', 22),\n ('éviter', 22),\n ('monter', 22),\n ('ainsi', 22),\n ('loin', 22),\n ('demande', 22),\n ('sentiment', 22),\n ('train', 22),\n ('victime', 22),\n ('Lunacy', 22),\n ('super', 22),\n ('troisième', 22),\n ('servir', 22),\n ('importer', 22),\n ('dos', 22),\n ('exemple', 21),\n ('suivre', 21),\n ('préparer', 21),\n ('homme', 21),\n ('finir', 21),\n ('maladie', 21),\n ('sida', 21),\n ('accepter', 21),\n ('apercevoir', 21),\n ('reste', 21),\n ('presque', 21),\n ('force', 21),\n ('endroit', 21),\n ('résultat', 21),\n ('visage', 21),\n ('pardon', 20),\n ('mineur', 20),\n ('e', 20),\n ('université', 20),\n ('ville', 20),\n ('avouer', 20),\n ('suite', 20),\n ('bas', 20),\n ('leur', 20),\n ('virus', 20),\n ('larme', 20),\n ('retenir', 20),\n ('faute', 20),\n ('refuser', 20),\n ('tard', 20),\n ('terminer', 20),\n ('cheveu', 20),\n ('sauf', 20),\n ('assassin', 20),\n ('criminel', 20),\n ('primaire', 20),\n ('deuxième', 20),\n ('fabriquer', 20),\n ('groupe', 20),\n ('heureux', 20),\n ('vérité', 20),\n ('tourner', 20),\n ('décider', 19),\n ('ensuite', 19),\n ('réussir', 19),\n ('commettre', 19),\n ('livre', 19),\n ('continuer', 19),\n ('ensemble', 19),\n ('sens', 19),\n ('gros', 19),\n ('préférer', 19),\n ('pareil', 19),\n ('complètement', 19),\n ('bord', 19),\n ('esprit', 19),\n ('peine', 19),\n ('amour', 19),\n ('derrière', 19),\n ('paraître', 19),\n ('coupable', 19),\n ('intention', 19),\n ('cahier', 19),\n ('propre', 19),\n ('écouter', 19),\n ('Yūsuke', 19),\n ('raté', 19),\n ('rentrée', 18),\n ('national', 18),\n ('visite', 18),\n ('capable', 18),\n ('annoncer', 18),\n ('enseignement', 18),\n ('gentil', 18),\n ('or', 18),\n ('entrée', 18),\n ('texto', 18),\n ('dessus', 18),\n ('Tokura', 18),\n ('remarquer', 18),\n (')', 18),\n ('plein', 18),\n ('intérieur', 18),\n ('eau', 18),\n ('cacher', 18),\n ('cinq', 18),\n ('vacance', 18),\n ('sœur', 18),\n ('autour', 18),\n ('vengeance', 18),\n ('lever', 18),\n ('asseoir', 17),\n ('bouche', 17),\n ('scolaire', 17),\n ('plan', 17),\n ('parfois', 17),\n ('rater', 17),\n ('déclarer', 17),\n ('choisir', 17),\n ('valeur', 17),\n ('réalité', 17),\n ('considérer', 17),\n ('proviseur', 17),\n ('envoyer', 17),\n ('bonheur', 17),\n ('test', 17),\n ('possible', 17),\n ('centre', 17),\n ('sorte', 17),\n ('rêve', 17),\n ('perdre', 17),\n ('harcèlement', 17),\n ('vivant', 17),\n ('machine', 17),\n ('compter', 17),\n ('féliciter', 17),\n ('preuve', 17),\n ('type', 17),\n ('établissement', 16),\n ('espérer', 16),\n ('1', 16),\n ('numéro', 16),\n ('Monsieur', 16),\n ('niveau', 16),\n ('bureau', 16),\n ('4', 16),\n ('principe', 16),\n ('malade', 16),\n ('absolument', 16),\n ('plaisir', 16),\n ('hôpital', 16),\n ('agir', 16),\n ('réaliser', 16),\n ('poche', 16),\n ('doigt', 16),\n ('vidéo', 16),\n ('B', 16),\n ('nul', 16),\n ('Ayaka', 16),\n ('projet', 16),\n ('vide', 15),\n ('profiter', 15),\n ('occasion', 15),\n ('pauvre', 15),\n ('attention', 15),\n ('partie', 15),\n ('réfléchir', 15),\n ('accompagner', 15),\n ('média', 15),\n ('camarade', 15),\n ('photo', 15),\n ('lendemain', 15),\n ('ami', 15),\n ('société', 15),\n ('vite', 15),\n ('hasard', 15),\n ('regretter', 15),\n ('rencontrer', 15),\n ('assassiner', 15),\n ('inventer', 15),\n ('simplement', 15),\n ('franchement', 15),\n ('labo', 15),\n ('détester', 15),\n ('autrement', 15),\n ('Mizuho', 15),\n ('salon', 15),\n ('pied', 15),\n ('imbécile', 15),\n ('demain', 15),\n ('mur', 15),\n ('bombe', 15),\n ('adresser', 14),\n ('long', 14),\n ('travailler', 14),\n ('table', 14),\n ('retrouver', 14),\n ('collégien', 14),\n ('état', 14),\n ('protéger', 14),\n ('Takenaka', 14),\n ('papier', 14),\n ('puisqu’', 14),\n ('chacun', 14),\n ('beau', 14),\n ('enfermer', 14),\n ('lancer', 14),\n ('génial', 14),\n ('A', 14),\n ('connaissance', 14),\n ('prononcer', 14),\n ('parole', 14),\n ('directement', 14),\n ('journée', 14),\n ('valoir', 14),\n ('surprise', 14),\n ('marcher', 14),\n ('cent', 13),\n ('période', 13),\n ('choix', 13),\n ('remplir', 13),\n ('prétexte', 13),\n ('enseigner', 13),\n ('Masayoshi', 13),\n ('expérience', 13),\n ('nuit', 13),\n ('appel', 13),\n ('personnel', 13),\n ('haine', 13),\n ('Oh', 13),\n ('noir', 13),\n ('quitter', 13),\n ('sac', 13),\n ('autant', 13),\n ('attirer', 13),\n ('contraire', 13),\n ('mesure', 13),\n ('noyer', 13),\n ('génie', 13),\n ('page', 13),\n ('bout', 13),\n ('délégué', 13),\n ('supérette', 13),\n ('hikikomori', 13),\n ('honte', 13),\n ('secondaire', 12),\n ('grâce', 12),\n ('laboratoire', 12),\n ('expliquer', 12),\n ('événement', 12),\n ('calme', 12),\n ('propos', 12),\n ('ici', 12),\n ('ignorer', 12),\n ('personnellement', 12),\n ('répéter', 12),\n ('règle', 12),\n ('malgré', 12),\n ('rapport', 12),\n ('physique', 12),\n ('sérieux', 12),\n ('contaminer', 12),\n ('longtemps', 12),\n ('toute', 12),\n ('joue', 12),\n ('base', 12),\n ('manquer', 12),\n ('loi', 12),\n ('responsabilité', 12),\n ('décevoir', 12),\n ('éclater', 12),\n ('manuel', 12),\n ('scientifique', 12),\n ('cuisine', 12),\n ('proposer', 12),\n ('retour', 12),\n ('lourd', 12),\n ('crier', 12),\n ('œil', 12),\n ('foutre', 12),\n ('courir', 12),\n ('phrase', 12),\n ('peiner', 12),\n ('crever', 12),\n ('châtier', 12),\n ('ancien', 12),\n ('douter', 12),\n ('néanmoins', 11),\n ('film', 11),\n ('public', 11),\n ('boîte', 11),\n ('adulte', 11),\n ('quatrième', 11),\n ('concours', 11),\n ('éducation', 11),\n ('époque', 11),\n ('conscience', 11),\n ('simple', 11),\n ('reprendre', 11),\n ('confiance', 11),\n ('général', 11),\n ('rappeler', 11),\n ('obliger', 11),\n ('permettre', 11),\n ('été', 11),\n ('choc', 11),\n ('habiter', 11),\n ('donne', 11),\n ('oreille', 11),\n ('commercial', 11),\n ('chocolat', 11),\n ('croiser', 11),\n ('tour', 11),\n ('feuille', 11),\n ('vêtement', 11),\n ('minute', 11),\n ('attraper', 11),\n ('image', 11),\n ('dangereux', 11),\n ('téléphoner', 11),\n ('immédiatement', 11),\n ('reconnaître', 11),\n ('remercier', 11),\n ('vue', 11),\n ('inquiéter', 11),\n ('suivant', 11),\n ('tennis', 11),\n ('sonner', 11),\n ('laver', 11),\n ('découvrir', 11),\n ('(', 11),\n ('vieux', 11),\n ('couper', 11),\n ('bulle', 11),\n ('hurler', 11),\n ('ouais', 11),\n ('cible', 11),\n ('marécage', 11),\n ('casier', 10),\n ('santé', 10),\n ('supérieur', 10),\n ('système', 10),\n ('combien', 10),\n ('effectivement', 10),\n ('également', 10),\n ('auprès', 10),\n ('cinquième', 10),\n ('effet', 10),\n ('chimie', 10),\n ('bref', 10),\n ('métier', 10),\n ('lycée', 10),\n ('près', 10),\n ('limite', 10),\n ('quatre', 10),\n ('fameux', 10),\n ('souvent', 10),\n ('plaire', 10),\n ('réellement', 10),\n ('erreur', 10),\n ('quartier', 10),\n ('accord', 10),\n ('plupart', 10),\n ('traiter', 10),\n ('provoquer', 10),\n ('difficile', 10),\n ('téléphone', 10),\n ('responsable', 10),\n ('risquer', 10),\n ('grave', 10),\n ('entier', 10),\n ('marier', 10),\n ('terrible', 10),\n ('attitude', 10),\n ('humain', 10),\n ('bain', 10),\n ('papa', 10),\n ('inscrire', 10),\n ('Muku', 10),\n ('secret', 10),\n ('offrir', 10),\n ('hein', 10),\n ('vérifier', 10),\n ('condamner', 10),\n ('approcher', 10),\n ('occuper', 10),\n ('tendre', 10),\n ('mien', 10),\n ('acte', 10),\n ('idéal', 10),\n ('rôle', 10),\n ('exposition', 10),\n ('internet', 10),\n ('couteau', 10),\n ('serrer', 10),\n ('forcer', 10),\n ('message', 10),\n ('comportement', 10),\n ('certainement', 10),\n ('blague', 10),\n ('électrique', 10),\n ('entièrement', 10),\n ('science', 10),\n ('jeu', 10),\n ('justement', 10),\n ('récit', 10),\n ('bête', 10),\n ('courage', 10),\n ('bouger', 10),\n ('poids', 10),\n ('individuel', 10),\n ('atmosphère', 10),\n ('mensonge', 10),\n ('exister', 10),\n ('parfaitement', 10),\n ('disparaître', 10),\n ('brimade', 10),\n ('hier', 10),\n ('exploser', 10),\n ('soudain', 10),\n ('magasin', 10),\n ('gamin', 10),\n ('recommencer', 10),\n ('zombie', 10),\n ('l', 10),\n ('Miyuki', 10),\n ('s', 9),\n ('adresse', 9),\n ('est', 9),\n ('étude', 9),\n ('recherche', 9),\n ('chemin', 9),\n ('moyen', 9),\n ('enfance', 9),\n ('convaincre', 9),\n ('scène', 9),\n ('tombe', 9),\n ('3', 9),\n ('administration', 9),\n ('équipe', 9),\n ('précisément', 9),\n ('séropositif', 9),\n ('respirer', 9),\n ('sport', 9),\n ('titre', 9),\n ('crèche', 9),\n ('réunion', 9),\n ('terre', 9),\n ('amuser', 9),\n ('fermer', 9),\n ('ouvert', 9),\n ('milieu', 9),\n ('voisin', 9),\n ('selon', 9),\n ('souffrir', 9),\n ('personnalité', 9),\n ('extérieur', 9),\n ('local', 9),\n ('glissière', 9),\n ('intéresser', 9),\n ('ordinateur', 9),\n ('dossier', 9),\n ('appareil', 9),\n ('tirette', 9),\n ('ajouter', 9),\n ('Antivol', 9),\n ('écrier', 9),\n ('pire', 9),\n ('aider', 9),\n ('haut', 9),\n ('manque', 9),\n ('juger', 9),\n ('lèvre', 9),\n ('faible', 9),\n ('habitude', 9),\n ('résoudre', 9),\n ('descendre', 9),\n ('supporter', 9),\n ('geste', 9),\n ('participer', 9),\n ('prévoir', 9),\n ('mari', 9),\n ('réponse', 9),\n ('porno', 9),\n ('électromécanique', 9),\n ('venger', 9),\n ('prier', 8),\n ('rassurer', 8),\n ('médical', 8),\n ('avril', 8),\n ('pénible', 8),\n ('assurer', 8),\n ('phase', 8),\n ('uniquement', 8),\n ('travers', 8),\n ('décision', 8),\n ('cool', 8),\n ('réaction', 8),\n ('facilement', 8),\n ('poursuivre', 8),\n ('gagner', 8),\n ('hésiter', 8),\n ('département', 8),\n ('bêtise', 8),\n ('important', 8),\n ('second', 8),\n ('particulier', 8),\n ('étonner', 8),\n ('expression', 8),\n ('posséder', 8),\n ('2', 8),\n ('copine', 8),\n ('hors', 8),\n ('pédagogique', 8),\n ('dehors', 8),\n ('courant', 8),\n ('aide', 8),\n ('admettre', 8),\n ('impossible', 8),\n ('angoisse', 8),\n ('dormir', 8),\n ('éprouver', 8),\n ('assassinat', 8),\n ('interdire', 8),\n ('province', 8),\n ('gâteau', 8),\n ('grand-mère', 8),\n ('durer', 8),\n ('chaussure', 8),\n ('forme', 8),\n ('jogging', 8),\n ('insister', 8),\n ('toilette', 8),\n ('ball', 8),\n ('tirer', 8),\n ('détail', 8),\n ('créer', 8),\n ('minimum', 8),\n ('cyanure', 8),\n ('potassium', 8),\n ('psychologique', 8),\n ('idiot', 8),\n ('amusant', 8),\n ('sécurité', 8),\n ('nécessaire', 8),\n ('écran', 8),\n ('payer', 8),\n ('appartenir', 8),\n ('obtenir', 8),\n ('exprimer', 8),\n ('fier', 8),\n ('coin', 8),\n ('décharge', 8),\n ('membre', 8),\n ('talent', 8),\n ('couler', 8),\n ('remonter', 8),\n ('sursauter', 8),\n ('éliminer', 8),\n ('cou', 8),\n ('châtiment', 8),\n ('dénoncer', 8),\n ('afin', 8),\n ('totalement', 8),\n ('monsieur', 8),\n ('distance', 8),\n ('fenêtre', 8),\n ('organiser', 8),\n ('total', 8),\n ('fou', 8),\n ('informer', 8),\n ('sauver', 8),\n ('caresser', 8),\n ('souci', 8),\n ('reposer', 8),\n ('cadavre', 8),\n ('manie', 8),\n ('bouton', 8),\n ('’', 8),\n ('inventeur', 8),\n ('content', 8),\n ('rapporter', 7),\n ('merci', 7),\n ('lors', 7),\n ('suggérer', 7),\n ('floutage', 7),\n ('argent', 7),\n ('nombreux', 7),\n ('individu', 7),\n ('figurer', 7),\n ('mademoiselle', 7),\n ('bande', 7),\n ('partout', 7),\n ('publier', 7),\n ('certes', 7),\n ('médecin', 7),\n ('prêt', 7),\n ('élever', 7),\n ('genou', 7),\n ('parmi', 7),\n ('compassion', 7),\n ('héros', 7),\n ('secours', 7),\n ('inutile', 7),\n ('conversation', 7),\n ('confier', 7),\n ('prouver', 7),\n ('enceint', 7),\n ('cérémonie', 7),\n ('vih', 7),\n ('lecture', 7),\n ('moitié', 7),\n ('commentaire', 7),\n ('existence', 7),\n ('envisager', 7),\n ('adorer', 7),\n ('doux', 7),\n ('environ', 7),\n ('blanc', 7),\n ('prochain', 7),\n ('deviner', 7),\n ('battre', 7),\n ('pain', 7),\n ('signe', 7),\n ('surprendre', 7),\n ('malheureusement', 7),\n ('aîné', 7),\n ('véritable', 7),\n ('clé', 7),\n ('accuser', 7),\n ('âme', 7),\n ('effondrer', 7),\n ('balle', 7),\n ('prévenir', 7),\n ('intérêt', 7),\n ('fermeture', 7),\n ('repenser', 7),\n ('appuyer', 7),\n ('signifier', 7),\n ('tableau', 7),\n ('produire', 7),\n ('tester', 7),\n ('nez', 7),\n ('chéri', 7),\n ('Happy', 7),\n ('Town', 7),\n ('cadeau', 7),\n ('encourager', 7),\n ('cri', 7),\n ('face', 7),\n ('froid', 7),\n ('meurtre', 7),\n ('amener', 7),\n ('étrange', 7),\n ('sincèrement', 7),\n ('copie', 7),\n ('pression', 7),\n ('espoir', 7),\n ('respecter', 7),\n ('bébé', 7),\n ('horrible', 7),\n ('facile', 7),\n ('ressentir', 7),\n ('clair', 7),\n ('lentement', 7),\n ('rouge', 7),\n ('figure', 7),\n ('tôt', 7),\n ('vélo', 7),\n ('étage', 7),\n ('juillet', 7),\n ('pièce', 7),\n ...]"
     },
     "execution_count": 29,
     "metadata": {},
     "output_type": "execute_result"
    }
   ],
   "source": [
    "data"
   ],
   "metadata": {
    "collapsed": false,
    "ExecuteTime": {
     "end_time": "2023-09-26T14:52:49.766783Z",
     "start_time": "2023-09-26T14:52:49.715843Z"
    }
   },
   "id": "c69103a3c093eba4"
  },
  {
   "cell_type": "code",
   "execution_count": 43,
   "outputs": [
    {
     "name": "stdout",
     "output_type": "stream",
     "text": [
      "m’\n",
      "!\n",
      "–\n",
      "s’\n",
      "«\n",
      "»\n",
      ":\n",
      "\n",
      "y\n",
      "-\n",
      "\n",
      "-ce\n",
      "quelqu’\n",
      "-là\n",
      "a\n",
      "jusqu’\n",
      "m.\n",
      "t’\n",
      "b\n",
      "*\n",
      "-t\n",
      "\t\n",
      "e\n",
      ")\n",
      "1\n",
      "4\n",
      "B\n",
      "puisqu’\n",
      "A\n",
      "(\n",
      "l\n",
      "s\n",
      "3\n",
      "2\n",
      "’\n",
      "18\n",
      ";\n",
      "b.\n",
      "a.\n",
      "o\n",
      "peut-\n",
      "20\n",
      "n\n",
      "5\n",
      "16\n",
      "lorsqu’\n",
      "d\n",
      "t\n",
      "demi-\n",
      "T\n",
      "100\n",
      "c\n",
      "“\n",
      "”\n",
      "est-\n",
      "u\n",
      "\n",
      "k.\n",
      "m\n",
      "14\n",
      "k\n",
      "13\n",
      "t.\n",
      "celle-\n",
      "C\n",
      "C.\n",
      "porte-\n",
      "F\n",
      "Saint-\n",
      "\n",
      "-en\n",
      "9\n",
      "a-\n",
      "M’\n",
      "quelques-\n",
      "700\n",
      "17\n",
      "90\n",
      "15\n",
      "2001\n",
      "p’\n",
      "T.\n",
      "y.\n",
      "30\n",
      "science-\n",
      "avant-\n",
      "f\n",
      "d.\n",
      "23\n",
      "ç’\n",
      "avait-\n",
      "h.\n",
      "0\n",
      "27\n",
      "t-\n",
      "moi-\n",
      "sur-le-\n",
      "p\n",
      "U\n",
      "v\n",
      "31\n",
      "10\n",
      "11\n",
      "avouerai-\n",
      "réagirait-\n",
      "elle-\n",
      "par-\n",
      "35\n",
      "s.\n",
      "\n",
      "déciderait-\n",
      "voulait-\n",
      "\n",
      "50\n"
     ]
    }
   ],
   "source": [
    "with open(\"word\", 'w') as f:\n",
    "    for d in data:\n",
    "        if len(d[0]) < 2 or d[0][0] in string.punctuation or d[0][-1] in string.punctuation or d[0].isdigit() \\\n",
    "                or d[0][0] == '’' or d[0][-1] == '’':\n",
    "            print(d[0])\n",
    "        else:\n",
    "            f.write(f\"{d[0]},{d[1]}\\n\")"
   ],
   "metadata": {
    "collapsed": false,
    "ExecuteTime": {
     "end_time": "2023-09-26T16:25:27.555859Z",
     "start_time": "2023-09-26T16:25:27.545057Z"
    }
   },
   "id": "402108320dac283d"
  },
  {
   "cell_type": "code",
   "execution_count": 41,
   "outputs": [
    {
     "data": {
      "text/plain": "False"
     },
     "execution_count": 41,
     "metadata": {},
     "output_type": "execute_result"
    }
   ],
   "source": [
    "'‘' in string.punctuation"
   ],
   "metadata": {
    "collapsed": false,
    "ExecuteTime": {
     "end_time": "2023-09-26T16:23:28.860361Z",
     "start_time": "2023-09-26T16:23:28.850549Z"
    }
   },
   "id": "4277c36fce93126a"
  },
  {
   "cell_type": "code",
   "execution_count": 14,
   "outputs": [
    {
     "data": {
      "text/plain": "[{'SACERDOCE': 1},\n {'–': 345},\n {'dès': 28},\n {'que': 1414},\n {'vous': 396},\n {'avoir': 2716},\n {'boire': 28},\n {'votre': 106},\n {'lait': 57},\n {'vouloir': 188},\n {'rapporter': 7},\n {'le': 3919},\n {'carton': 38},\n {'vide': 15},\n {'dans': 582},\n {'casier': 10},\n {'et': 1062},\n {'revenir': 30},\n {'asseoir': 17},\n {'je': 1519},\n {'prier': 8},\n {'…': 412},\n {'voilà': 38},\n {'qui': 613},\n {'être': 2701},\n {'faire': 551},\n {'tout': 636},\n {'monde': 76},\n {'entendre': 61},\n {'quelque': 115},\n {'grognement': 1},\n {'même': 330},\n {'dernier': 73},\n {'jour': 135},\n {'de': 3547},\n {'année': 58},\n {'il': 1313},\n {'falloir': 80},\n {'encore': 119},\n {'ce': 870},\n {'truc': 22},\n {'!': 360},\n {'rassurer': 8},\n {'fois': 146},\n {'bien': 247},\n {'.': 3639},\n {'merci': 7},\n {'Hein': 5},\n {'à': 1594},\n {'rentrée': 18},\n {'n’': 713},\n {'y': 170},\n {'en': 977},\n {'plus': 332},\n {'Eh': 30},\n {'non': 101},\n {'c’': 728},\n {'fini': 4},\n {'collège': 99},\n {'s': 9},\n {'désigner': 3},\n {'par': 261},\n {'ministère': 2},\n {'santé': 10},\n {'comme': 269},\n {'établissement': 16},\n {'pilot': 1},\n {'pour': 692},\n {'campagne': 5},\n {'national': 18},\n {'distribution': 5},\n {'produit': 26},\n {'laitier': 2},\n {'élève': 124},\n {'secondaire': 12},\n {'seulement': 35},\n {'raison': 22},\n {'lequel': 35},\n {'deux': 69},\n {'cent': 13},\n {'millilitre': 2},\n {'quotidiennement': 1},\n {'distribuer': 3},\n {'ose': 1},\n {'espérer': 16},\n {'grâce': 12},\n {'aller': 323},\n {'nous': 209},\n {'montrer': 28},\n {'un': 1972},\n {'croissance': 5},\n {'global': 1},\n {'taille': 2},\n {'densité': 3},\n {'osseux': 2},\n {'supérieur': 10},\n {'moyenne': 5},\n {'âge': 29},\n {'égal': 5},\n {'lors': 7},\n {'visite': 18},\n {'médical': 8},\n {'d’': 702},\n {'avril': 8},\n {'1': 16},\n {'-ce': 94},\n {'pas': 956},\n {'enfin': 46},\n {'voir': 195},\n {'pardon': 20},\n {'on': 244},\n {'prendre': 151},\n {'cobaye': 5},\n {'mon': 678},\n {'foi': 5},\n {'imaginer': 39},\n {'pouvoir': 379},\n {'assez': 31},\n {'pénible': 8},\n {'celui': 97},\n {'entrer': 58},\n {'présenter': 22},\n {'tendance': 5},\n {'dérangement': 1},\n {'intestinal': 1},\n {'ou': 145},\n {'aimer': 57},\n {'': 221},\n {'vrai': 79},\n {'désignation': 1},\n {'aléatoire': 1},\n {'classe': 162},\n {'pilote': 2},\n {'commission': 3},\n {'départemental': 4},\n {'avec': 260},\n {'son': 882},\n {'système': 10},\n {'double': 2},\n {'vérification': 2},\n {'numéroter': 1},\n {'numéro': 16},\n {'peu': 104},\n {'rat': 1},\n {'laboratoire': 12},\n {'destiner': 3},\n {'s’': 330},\n {'assurer': 8},\n {'néanmoins': 11},\n {'air': 45},\n {'trouver': 142},\n {'cela': 355},\n {'bon': 101},\n {'maintenant': 73},\n {'grimace': 4},\n {'parce': 106},\n {'qu’': 710},\n {'mot': 53},\n {'«': 292},\n {'»': 292},\n {'alors': 195},\n {'m’': 383},\n {'adresse': 9},\n {'lui': 603},\n {':': 262},\n {'celer': 160},\n {'a-': 1},\n {'t': 3},\n {'poser': 42},\n {'problème': 34},\n {'verre': 5},\n {'venir': 142},\n {'phase': 8},\n {'adolescent': 2},\n {'si': 318},\n {'se': 307},\n {'contenter': 3},\n {'suggérer': 7},\n {'quotidien': 6},\n {'chez': 48},\n {'os': 2},\n {'solide': 4},\n {'combien': 10},\n {'effectivement': 10},\n {'calcium': 5},\n {'utile': 2},\n {'au': 365},\n {'développement': 5},\n {'contribuer': 2},\n {'également': 10},\n {'transmission': 4},\n {'nerveux': 1},\n {'expliquer': 12},\n {'quand': 229},\n {'mauvais': 35},\n {'humeur': 3},\n {'dire': 479},\n {'devoir': 118},\n {'rendre': 35},\n {'aimable': 1},\n {'m.': 49},\n {'Watanabe': 96},\n {'dont': 29},\n {'famille': 43},\n {'électronique': 2},\n {'sembler': 33},\n {'-t': 37},\n {'capable': 18},\n {'neutraliser': 1},\n {'quatre-vingt-dix': 2},\n {'floutage': 7},\n {'film': 11},\n {'pornographique': 1},\n {'circuler': 2},\n {'sou': 30},\n {'enveloppe': 3},\n {'auprès': 10},\n {'garçon': 55},\n {'cours': 59},\n {'priver': 6},\n {'Gakken': 1},\n {'trafic': 1},\n {'fait': 111},\n {'période': 13},\n {'intense': 1},\n {'traverser': 6},\n {'ne': 629},\n {'affecter': 2},\n {'uniquement': 8},\n {'physiquement': 2},\n {'mais': 606},\n {'aussi': 117},\n {'psychologiquement': 2},\n {'exemple': 21},\n {'peut-être': 58},\n {'très': 91},\n {'pertinent': 1},\n {'là': 83},\n {'qualifier': 2},\n {'rébellion': 2},\n {'sexuel': 4},\n {'vocable': 1},\n {'générique': 2},\n {'puberté': 2},\n {'travers': 8},\n {'colère': 6},\n {'événement': 12},\n {'mineur': 20},\n {'énormément': 5},\n {'influencer': 2},\n {'décision': 8},\n {'choix': 13},\n {'empêcher': 28},\n {'prétendre': 4},\n {'indépendance': 1},\n {'ailleurs': 39},\n {'me': 508},\n {'quoi': 74},\n {'parler': 133},\n {'lieu': 30},\n {'premier': 116},\n {'ouvrir': 42},\n {'bouche': 17},\n {'trop': 45},\n {'cool': 8},\n {'gratos': 1},\n {'réaction': 8},\n {'autre': 177},\n {'différent': 4},\n {'penser': 111},\n {'vie': 80},\n {'situation': 23},\n {'semblable': 3},\n {'où': 102},\n {'suffire': 34},\n {'petit': 104},\n {'rien': 138},\n {'changer': 24},\n {'chose': 134},\n {'croire': 107},\n {'juste': 53},\n {'compte': 22},\n {'professeur': 88},\n {'rarement': 1},\n {'cinquième': 10},\n {'calme': 12},\n {'effet': 10},\n {'part': 29},\n {'annoncer': 18},\n {'quitte': 3},\n {'fonction': 6},\n {'fin': 38},\n {'scolaire': 17},\n {'est': 9},\n {'-': 140},\n {'aujourd’hui': 29},\n {'définitivement': 4},\n {'enseignement': 18},\n {'donner': 74},\n {'démission': 3},\n {'cher': 1},\n {'5': 4},\n {'e': 20},\n {'b': 39},\n {'carrière': 1},\n {'sûr': 71},\n {'oublier': 24},\n {'dommage': 2},\n {'Ah': 50},\n {'voix': 28},\n {'gentil': 18},\n {'cause': 27},\n {'savoir': 160},\n {'propos': 12},\n {'laisser': 49},\n {'moi': 288},\n {'profiter': 15},\n {'occasion': 15},\n {'adresser': 14},\n {'*': 38},\n {'heure': 47},\n {'repose': 3},\n {'question': 49},\n {'enseignant': 25},\n {'décider': 19},\n {'devenir': 55},\n {'romantique': 1},\n {'ni': 53},\n {'extraordinaire': 6},\n {'façon': 55},\n {'jeune': 43},\n {'genre': 26},\n {'pauvre': 15},\n {'fille': 91},\n {'parent': 23},\n {'temps': 71},\n {'besoin': 23},\n {'étude': 9},\n {'long': 14},\n {'or': 18},\n {'étudier': 6},\n {'postuler': 1},\n {'bourse': 3},\n {'facilement': 8},\n {'accorder': 2},\n {'cas': 46},\n {'souvenir': 28},\n {'jouer': 30},\n {'faveur': 2},\n {'note': 30},\n {'donc': 40},\n {'université': 20},\n {'public': 11},\n {'région': 3},\n {'natal': 1},\n {'chimie': 10},\n {'commencer': 71},\n {'travailler': 14},\n {'boîte': 11},\n {'bachot': 4},\n {'réviser': 3},\n {'adulte': 11},\n {'enfant': 74},\n {'école': 79},\n {'soir': 40},\n {'su': 1},\n {'obligatoire': 4},\n {'sur': 292},\n {'repos': 4},\n {'plaindre': 6},\n {'beaucoup': 25},\n {'chance': 23},\n {'pousser': 24},\n {'bref': 10},\n {'cycle': 1},\n {'universitaire': 1},\n {'quatrième': 11},\n {'chercher': 34},\n {'emploi': 4},\n {'poursuivre': 8},\n {'recherche': 9},\n {'désir': 4},\n {'gagner': 8},\n {'emporter': 5},\n {'peut-': 5},\n {'engager': 5},\n {'dispense': 2},\n {'restituer': 1},\n {'argent': 7},\n {'passer': 123},\n {'sans': 141},\n {'hésiter': 8},\n {'concours': 11},\n {'éducation': 11},\n {'douteux': 1},\n {'vocation': 2},\n {'regarder': 85},\n {'cœur': 33},\n {'remplir': 13},\n {'correctement': 3},\n {'mission': 5},\n {'nombreux': 7},\n {'individu': 7},\n {'rester': 61},\n {'traîner': 3},\n {'prétexte': 13},\n {'arriver': 77},\n {'vraiment': 43},\n {'coup': 58},\n {'chemin': 9},\n {'mal': 39},\n {'mieux': 40},\n {'métier': 10},\n {'présente': 4},\n {'porte': 32},\n {'préjudice': 1},\n {'pourquoi': 59},\n {'lycée': 10},\n {'tant': 33},\n {'enseigner': 13},\n {'cadre': 1},\n {'défi': 4},\n {'méritoire': 1},\n {'dépasser': 6},\n {'arrêter': 49},\n {'aucun': 48},\n {'moyen': 9},\n {'échapper': 5},\n {'figurer': 7},\n {'mademoiselle': 7},\n {'Tanaka': 1},\n {'Monsieur': 16},\n {'Ogawa': 2},\n {'drôle': 2},\n {'ricanement': 1},\n {'huit': 3},\n {'an': 50},\n {'enseigne': 3},\n {'débuter': 2},\n {'m': 2},\n {'principal': 42},\n {'ville': 20},\n {'département': 8},\n {'stage': 1},\n {'pratique': 4},\n {'trois': 26},\n {'congé': 2},\n {'maternité': 2},\n {'ensuite': 19},\n {'ici': 12},\n {'près': 10},\n {'limite': 10},\n {'fonctionner': 5},\n {'mode': 4},\n {'plan': 17},\n {'avouer': 20},\n {'suivre': 21},\n {'depuis': 83},\n {'quatre': 10},\n {'consacrer': 6},\n {'sept': 1},\n {'fameux': 10},\n {'exactement': 28},\n {'exercer': 2},\n {'Sakuranomiya': 26},\n {'souvent': 10},\n {'télé': 27},\n {'ci': 6},\n {'plaire': 10},\n {'ignorer': 12},\n {'connaître': 41},\n {'personnellement': 12},\n {'luire': 402},\n {'époque': 11},\n {'actif': 3},\n {'oui': 54},\n {'Maekawa': 1},\n {'tenir': 38},\n {'enfance': 9},\n {'Masayoshi': 13},\n {'leader': 3},\n {'bande': 7},\n {'voyou': 2},\n {'renvoyer': 4},\n {'histoire': 42},\n {'blessure': 3},\n {'encontre': 3},\n {'suite': 20},\n {'voyager': 2},\n {'partout': 7},\n {'vivre': 33},\n {'expédient': 1},\n {'parfois': 17},\n {'illégal': 1},\n {'expérience': 13},\n {'côtoyer': 2},\n {'gens': 31},\n {'affronter': 2},\n {'réellement': 10},\n {'dur': 6},\n {'guerre': 3},\n {'civil': 2},\n {'misère': 1},\n {'conscience': 11},\n {'bêtise': 8},\n {'Japon': 2},\n {'préparer': 21},\n {'diplôme': 1},\n {'réussir': 19},\n {'entrée': 18},\n {'grand': 54},\n {'anglais': 6},\n {'éviter': 22},\n {'commettre': 19},\n {'erreur': 10},\n {'rater': 17},\n {'virage': 1},\n {'frôler': 1},\n {'sortie': 2},\n {'route': 3},\n {'effectuer': 2},\n {'ronde': 2},\n {'nuit': 13},\n {'quartier': 10},\n {'chaud': 4},\n {'aborder': 4},\n {'rôder': 1},\n {'but': 6},\n {'rentrer': 32},\n {'déclarer': 17},\n {'meilleur': 26},\n {'départ': 5},\n {'attention': 15},\n {'cap': 3},\n {'jamais': 72},\n {'surnommer': 2},\n {'prof': 78},\n {'Voyou': 2},\n {'Monde': 1},\n {'publier': 7},\n {'livre': 19},\n {'raconter': 61},\n {'lui-même': 26},\n {'émission': 2},\n {'semaine': 40},\n {'désolé': 6},\n {'répéter': 12},\n {'nouveau': 50},\n {'certes': 7},\n {'dame': 4},\n {'important': 8},\n {'continuer': 19},\n {'abattre': 2},\n {'sacerdoce': 4},\n {'médecin': 7},\n {'mois': 34},\n {'Abe': 1},\n {'respect': 5},\n {'choisir': 17},\n {'plutôt': 34},\n {'second': 8},\n {'partie': 15},\n {'accord': 10},\n {'partir': 37},\n {'comprendre': 80},\n {'rêver': 6},\n {'déborder': 3},\n {'enthousiasme': 4},\n {'pourtant': 36},\n {'début': 28},\n {'convaincre': 9},\n {'prêt': 7},\n {'leçon': 6},\n {'réfléchir': 15},\n {'survenir': 5},\n {'toucher': 27},\n {'particulier': 8},\n {'accompagner': 15},\n {'convoquer': 5},\n {'salle': 32},\n {'oeil': 59},\n {'personne': 67},\n {'parfait': 3},\n {'devant': 74},\n {'passionner': 2},\n {'auxquelles': 1},\n {'bonnement': 1},\n {'imposer': 3},\n {'valeur': 17},\n {'autosatisfaction': 1},\n {'pur': 3},\n {'simple': 11},\n {'condescendance': 1},\n {'reprendre': 11},\n {'fixer': 5},\n {'règle': 12},\n {'tutoyer': 3},\n {'niveau': 16},\n {'politesse': 3},\n {'droit': 29},\n {'exiger': 3},\n {'transcendant': 1},\n {'certain': 30},\n {'place': 30},\n {'maltraiter': 1},\n {'monter': 22},\n {'épingle': 1},\n {'média': 15},\n {'martyr': 1},\n {'main': 83},\n {'réalité': 17},\n {'plupart': 10},\n {'élever': 7},\n {'roi': 1},\n {'supplier': 4},\n {'genou': 7},\n {'resservir': 1},\n {'table': 14},\n {'retrouver': 14},\n {'gosse': 5},\n {'traiter': 10},\n {'chien': 23},\n {'parmi': 7},\n {'appeler': 55},\n {'surnom': 4},\n {'apprécier': 6},\n {'série': 5},\n {'modèle': 4},\n {'étonner': 8},\n {'centrer': 1},\n {'passion': 6},\n {'ennui': 5},\n {'développer': 6},\n {'bel': 5},\n {'relation': 4},\n {'confiance': 11},\n {'mutuel': 1},\n {'gérer': 3},\n {'ensemble': 19},\n {'nom': 43},\n {'discours': 6},\n {'enthousiaste': 2},\n {'programme': 6},\n {'provoquer': 10},\n {'compassion': 7},\n {'difficile': 10},\n {'envie': 46},\n {'courageux': 1},\n {'intervenir': 4},\n {'enchaîner': 2},\n {'sens': 19},\n {'homme': 21},\n {'Terre': 1},\n {'entraider': 1},\n {'patati': 1},\n {'patata': 1},\n {'repartir': 4},\n {'volée': 2},\n {'gros': 19},\n {'poncif': 2},\n {'politiquement': 1},\n {'correct': 5},\n {'scène': 9},\n {'camarade': 15},\n {'excuser': 4},\n {'tort': 2},\n {'évidemment': 30},\n {'dérouler': 4},\n {'ainsi': 22},\n {'tellement': 42},\n {'nécessiter': 2},\n {'interrompre': 5},\n {'sermon': 2},\n {'finir': 21},\n {'malgré': 12},\n {'jeunesse': 2},\n {'sortir': 66},\n {'\\t': 31},\n {'héros': 7},\n {'lumière': 5},\n {'projecteur': 1},\n {'tombe': 9},\n {'ordinaire': 4},\n {'comment': 45},\n {'suspect': 2},\n {'travail': 32},\n {'sérieusement': 5},\n {'extraverti': 1},\n {'voire': 2},\n {'considérer': 17},\n {'perdant': 3},\n {'expression': 8},\n {'rapport': 12},\n {'normal': 27},\n {'collégien': 14},\n {'posséder': 8},\n {'téléphone': 10},\n {'portable': 32},\n {'recevoir': 39},\n {'texto': 18},\n {'style': 2},\n {'mourir': 64},\n {'général': 11},\n {'messagerie': 1},\n {'vers': 31},\n {'2': 8},\n {'3': 9},\n {'matin': 24},\n {'indu': 1},\n {'préférer': 19},\n {'proportion': 1},\n {'inattendu': 3},\n {'M’': 1},\n {'sieur': 4},\n {'secours': 7},\n {'copine': 8},\n {'demander': 102},\n {'urgence': 4},\n {'lover': 3},\n {'hotel': 3},\n {'méfier': 2},\n {'précipiter': 1},\n {'bas': 20},\n {'photo': 15},\n {'lendemain': 15},\n {'responsable': 10},\n {'légal': 4},\n {'bureau': 16},\n {'proviseur': 17},\n {'cliché': 1},\n {'porter': 25},\n {'plainte': 1},\n {'loin': 22},\n {'heureusement': 5},\n {'collègue': 3},\n {'flairer': 1},\n {'embrouille': 1},\n {'car': 23},\n {'homosexuel': 3},\n {'conseiller': 4},\n {'profil': 2},\n {'inutile': 7},\n {'confesser': 3},\n {'trouble': 3},\n {'identité': 2},\n {'pareil': 19},\n {'honneur': 3},\n {'abuser': 2},\n {'dessus': 18},\n {'administration': 9},\n {'recommander': 4},\n {'surveiller': 5},\n {'conversation': 7},\n {'mettre': 102},\n {'ridicule': 5},\n {'leur': 20},\n {'cheval': 2},\n {'confier': 7},\n {'notre': 70},\n {'mère': 154},\n {'apprendre': 36},\n {'fort': 34},\n {'rappeler': 11},\n {'eh': 5},\n {'écraser': 2},\n {'déjà': 51},\n {'obliger': 11},\n {'ring': 2},\n {'catch': 2},\n {'féminin': 3},\n {'extrême': 2},\n {'prouver': 7},\n {'demande': 22},\n {'sexe': 2},\n {'opposer': 2},\n {'hors': 8},\n {'obligation': 1},\n {'remplacer': 3},\n {'équipe': 9},\n {'pédagogique': 8},\n {'composer': 2},\n {'masculin': 1},\n {'chaque': 34},\n {'précisément': 9},\n {'faciliter': 1},\n {'disposition': 2},\n {'dehors': 8},\n {'contact': 6},\n {'Tokura': 18},\n {'a': 56},\n {'inversement': 2},\n {'courant': 8},\n {'remarquer': 18},\n {'officiellement': 3},\n {'risquer': 10},\n {'aide': 8},\n {'reprocher': 4},\n {'physique': 12},\n {'Hasegawa': 2},\n {'appel': 13},\n {'sérieux': 12},\n {'toutefois': 5},\n {'permettre': 11},\n {'évaluation': 1},\n {'personnel': 13},\n {'isolé': 1},\n {'envoyer': 17},\n {'véritablement': 3},\n {'mort': 69},\n {'sentiment': 22},\n {'impasse': 1},\n {'complètement': 19},\n {'submerger': 1},\n {'grave': 10},\n {'doute': 34},\n {'impression': 26},\n {'abandonner': 4},\n {'entier': 10},\n {'train': 22},\n {'moindre': 25},\n {'admettre': 8},\n {'destinataire': 1},\n {'rassurant': 1},\n {'bord': 19},\n {'suicide': 4},\n {'présence': 5},\n {'esprit': 19},\n {'attendre': 43},\n {'suspendre': 1},\n {'vingt-quatre': 2},\n {'quelqu’': 68},\n {'4': 16},\n {'seul': 122},\n {'marier': 10},\n {'père': 54},\n {'Manami': 81},\n {'profond': 4},\n {'tomber': 40},\n {'enceint': 7},\n {'avant': 65},\n {'cérémonie': 7},\n {'rire': 24},\n {'mariage': 4},\n {'bonheur': 17},\n {'puisque': 24},\n {'fiancé': 2},\n {'bilan': 2},\n {'léger': 6},\n {'terrible': 10},\n {'maladie': 21},\n {'Isaka': 1},\n {'principe': 16},\n {'partenaire': 2},\n {'malade': 16},\n {'attitude': 10},\n {'consister': 3},\n {'destin': 2},\n {'couple': 1},\n {'copain': 3},\n {'infecté(e': 1},\n {')': 18},\n {'vih': 7},\n {'virus': 20},\n {'immunodéficience': 1},\n {'humain': 10},\n {'sida': 21},\n {'après': 79},\n {'lecture': 7},\n {'été': 11},\n {'moitié': 7},\n {'lire': 39},\n {'roman': 5},\n {'commentaire': 7},\n {'dithyrambique': 1},\n {'ému(e': 1},\n {'larme': 20},\n {'résumer': 3},\n {'coucher': 4},\n {'contre': 33},\n {'rémunération': 1},\n {'contaminer': 12},\n {'simpliste': 1},\n {'résumé': 1},\n {'remarque': 2},\n {'touchant': 1},\n {'réflexe': 1},\n {'répulsion': 1},\n {'séropositif': 9},\n {'Hamazaki': 1},\n {'rang': 3},\n {'peine': 19},\n {'retenir': 20},\n {'respiration': 6},\n {'craindre': 3},\n {'attrape': 3},\n {'respirer': 9},\n {'curieux': 4},\n {'approche': 2},\n {'moins': 50},\n {'mètre': 1},\n {'idée': 41},\n {'transmettre': 5},\n {'poignée': 3},\n {'toux': 1},\n {'éternuement': 1},\n {'bain': 10},\n {'piscine': 73},\n {'partager': 4},\n {'couvert': 4},\n {'moustique': 1},\n {'animal': 4},\n {'domestique': 2},\n {'bisou': 4},\n {'porteur': 5},\n {'mener': 2},\n {'existence': 7},\n {'risque': 5},\n {'écrire': 54},\n {'désoler': 1},\n {'patience': 6},\n {'séronégatif': 2},\n {'voie': 5},\n {'contrôler': 2},\n {'négatif': 2},\n {'incroyable': 5},\n {'infecter': 5},\n {'refaire': 4},\n {'test': 17},\n {'taux': 3},\n {'impossible': 8},\n {'chiffre': 3},\n {'quel': 45},\n {'réel': 3},\n {'contracter': 1},\n {'étranger': 4},\n {'condition': 4},\n {'sordide': 4},\n {'accepter': 21},\n {'spontanément': 3},\n {'ciller': 1},\n {'choc': 11},\n {'énorme': 5},\n {'dévaster': 1},\n {'angoisse': 8},\n {'peur': 40},\n {'dormir': 8},\n {'immense': 1},\n {'moment': 77},\n {'-là': 61},\n {'éprouver': 8},\n {'haine': 13},\n {'redemander': 1},\n {'envisager': 7},\n {'avorter': 1},\n {'avortement': 1},\n {'assassinat': 8},\n {'désespoir': 6},\n {'hémophile': 1},\n {'faute': 20},\n {'intérieurement': 3},\n {'infini': 4},\n {'état': 14},\n {'constituer': 2},\n {'obstacle': 2},\n {'commun': 4},\n {'naître': 2},\n {'refuser': 20},\n {'catégoriquement': 1},\n {'toujours': 84},\n {'volonté': 6},\n {'ferme': 6},\n {'qualité': 2},\n {'carrément': 1},\n {'buter': 1},\n {'abord': 39},\n {'perpétuellement': 1},\n {'pestiféré': 1},\n {'instant': 23},\n {'jeter': 32},\n {'regard': 31},\n {'alien': 1},\n {'tu': 219},\n {'ami': 15},\n {'interdire': 8},\n {'persécuter': 1},\n {'manger': 38},\n {'cantine': 2},\n {'sport': 9},\n {'victime': 22},\n {'discrimination': 1},\n {'possible': 17},\n {'société': 15},\n {'discuter': 2},\n {'maint': 2},\n {'reprise': 2},\n {'finalement': 33},\n {'renoncer': 3},\n {'naissance': 3},\n {'apparaître': 25},\n {'porteuse': 1},\n ...]"
     },
     "execution_count": 14,
     "metadata": {},
     "output_type": "execute_result"
    }
   ],
   "source": [
    "result"
   ],
   "metadata": {
    "collapsed": false,
    "ExecuteTime": {
     "end_time": "2023-09-26T13:24:43.062599Z",
     "start_time": "2023-09-26T13:24:43.050085Z"
    }
   },
   "id": "df320e003880c479"
  },
  {
   "cell_type": "code",
   "execution_count": 13,
   "outputs": [
    {
     "ename": "KeyError",
     "evalue": "1",
     "output_type": "error",
     "traceback": [
      "\u001B[0;31m---------------------------------------------------------------------------\u001B[0m",
      "\u001B[0;31mKeyError\u001B[0m                                  Traceback (most recent call last)",
      "Cell \u001B[0;32mIn[13], line 1\u001B[0m\n\u001B[0;32m----> 1\u001B[0m \u001B[38;5;28;43msorted\u001B[39;49m\u001B[43m(\u001B[49m\u001B[43mresult\u001B[49m\u001B[43m,\u001B[49m\u001B[43m \u001B[49m\u001B[43mkey\u001B[49m\u001B[38;5;241;43m=\u001B[39;49m\u001B[38;5;28;43;01mlambda\u001B[39;49;00m\u001B[43m \u001B[49m\u001B[43mx\u001B[49m\u001B[43m:\u001B[49m\u001B[43m \u001B[49m\u001B[38;5;241;43m-\u001B[39;49m\u001B[43mx\u001B[49m\u001B[43m[\u001B[49m\u001B[38;5;241;43m1\u001B[39;49m\u001B[43m]\u001B[49m\u001B[43m)\u001B[49m\n",
      "Cell \u001B[0;32mIn[13], line 1\u001B[0m, in \u001B[0;36m<lambda>\u001B[0;34m(x)\u001B[0m\n\u001B[0;32m----> 1\u001B[0m \u001B[38;5;28msorted\u001B[39m(result, key\u001B[38;5;241m=\u001B[39m\u001B[38;5;28;01mlambda\u001B[39;00m x: \u001B[38;5;241m-\u001B[39m\u001B[43mx\u001B[49m\u001B[43m[\u001B[49m\u001B[38;5;241;43m1\u001B[39;49m\u001B[43m]\u001B[49m)\n",
      "\u001B[0;31mKeyError\u001B[0m: 1"
     ]
    }
   ],
   "source": [
    "sorted(result.ti, key=lambda x: -x[1])"
   ],
   "metadata": {
    "collapsed": false,
    "ExecuteTime": {
     "end_time": "2023-09-26T13:24:34.464816Z",
     "start_time": "2023-09-26T13:24:34.446982Z"
    }
   },
   "id": "2a4ec841b0c290cf"
  },
  {
   "cell_type": "code",
   "execution_count": 38,
   "outputs": [
    {
     "data": {
      "text/plain": "True"
     },
     "execution_count": 38,
     "metadata": {},
     "output_type": "execute_result"
    }
   ],
   "source": [
    "'-' in string.punctuation"
   ],
   "metadata": {
    "collapsed": false,
    "ExecuteTime": {
     "end_time": "2023-09-26T14:59:30.650494Z",
     "start_time": "2023-09-26T14:59:30.635495Z"
    }
   },
   "id": "5e82ab338f496cc9"
  },
  {
   "cell_type": "code",
   "execution_count": null,
   "outputs": [],
   "source": [],
   "metadata": {
    "collapsed": false
   },
   "id": "6ed0c21cac1f3d2d"
  }
 ],
 "metadata": {
  "kernelspec": {
   "display_name": "Python 3",
   "language": "python",
   "name": "python3"
  },
  "language_info": {
   "codemirror_mode": {
    "name": "ipython",
    "version": 2
   },
   "file_extension": ".py",
   "mimetype": "text/x-python",
   "name": "python",
   "nbconvert_exporter": "python",
   "pygments_lexer": "ipython2",
   "version": "2.7.6"
  }
 },
 "nbformat": 4,
 "nbformat_minor": 5
}
